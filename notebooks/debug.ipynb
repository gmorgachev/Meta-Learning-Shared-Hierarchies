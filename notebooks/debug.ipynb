{
 "cells": [
  {
   "cell_type": "code",
   "execution_count": 1,
   "outputs": [],
   "source": [
    "import sys\n",
    "import wandb\n",
    "import torch\n",
    "from tqdm import tqdm\n",
    "sys.path.append(\"..\")\n",
    "\n",
    "%load_ext autoreload\n",
    "%autoreload 2\n",
    "import numpy as np\n",
    "from gym import wrappers\n",
    "from torch import nn\n",
    "\n",
    "from matplotlib import pyplot as plt\n",
    "from src import utils as utils\n",
    "from src.model import SimpleRecurrent\n",
    "\n",
    "# torch.autograd.set_detect_anomaly(True)"
   ],
   "metadata": {
    "collapsed": false,
    "pycharm": {
     "name": "#%%\n"
    }
   }
  },
  {
   "cell_type": "code",
   "execution_count": 2,
   "outputs": [
    {
     "data": {
      "text/plain": "<Figure size 432x288 with 1 Axes>",
      "image/png": "[encoded data removed]"
     },
     "metadata": {
      "needs_background": "light"
     },
     "output_type": "display_data"
    }
   ],
   "source": [
    "env_name = \"MiniGrid-DoorKey-5x5-v0\"\n",
    "# env_name = \"MiniGrid-Empty-Random-5x5-v0\"\n",
    "env = utils.make_env(env_name)\n",
    "\n",
    "obs_space_shape = env.observation_space.shape\n",
    "n_actions = env.action_space.n\n",
    "\n",
    "plt.title('Game image')\n",
    "plt.imshow(env.render('rgb_array'))\n",
    "plt.show()"
   ],
   "metadata": {
    "collapsed": false,
    "pycharm": {
     "name": "#%%\n"
    }
   }
  },
  {
   "cell_type": "code",
   "execution_count": 3,
   "outputs": [],
   "source": [
    "from src.a2c import A2CAlgo\n",
    "\n",
    "LOG_EACH = 30\n",
    "VIDEO_EACH = 400\n",
    "\n",
    "config = {\n",
    "    \"time\": 4,\n",
    "    \"n_games_mean\": 1,\n",
    "    \"max_reward\": 2,\n",
    "    \"device\": \"cpu\",\n",
    "    \"env\": env_name,\n",
    "    \"hidden_dim\": 128,\n",
    "    \"emb_dim\": 128,\n",
    "    \"n_env\": 128,\n",
    "    \"gamma\": 0.99,\n",
    "\n",
    "    \"max_grad_norm\": 0.5,\n",
    "    \"lr\": 0.001,\n",
    "    \"value_loss_coef\": 1,\n",
    "    \"entropy_coef\": 0.01,\n",
    "}\n"
   ],
   "metadata": {
    "collapsed": false,
    "pycharm": {
     "name": "#%%\n"
    }
   }
  },
  {
   "cell_type": "code",
   "execution_count": 4,
   "outputs": [
    {
     "data": {
      "text/plain": "<IPython.core.display.HTML object>",
      "text/html": "\n                Logging results to <a href=\"https://wandb.com\" target=\"_blank\">Weights & Biases</a> <a href=\"https://docs.wandb.com/integrations/jupyter.html\" target=\"_blank\">(Documentation)</a>.<br/>\n                Project page: <a href=\"https://app.wandb.ai/morgachev/mlsh\" target=\"_blank\">https://app.wandb.ai/morgachev/mlsh</a><br/>\n                Run page: <a href=\"https://app.wandb.ai/morgachev/mlsh/runs/9ahn8kv7\" target=\"_blank\">https://app.wandb.ai/morgachev/mlsh/runs/9ahn8kv7</a><br/>\n            "
     },
     "metadata": {},
     "output_type": "display_data"
    },
    {
     "name": "stderr",
     "output_type": "stream",
     "text": [
      "\u001B[34m\u001B[1mwandb\u001B[0m: Wandb version 0.8.36 is available!  To upgrade, please run:\n",
      "\u001B[34m\u001B[1mwandb\u001B[0m:  $ pip install wandb --upgrade\n"
     ]
    },
    {
     "data": {
      "text/plain": "[<wandb.wandb_torch.TorchGraph at 0x12e7f5b50>]"
     },
     "execution_count": 4,
     "metadata": {},
     "output_type": "execute_result"
    }
   ],
   "source": [
    "\n",
    "# import os\n",
    "# os.environ[\"WANDB_MODE\"] = \"dryrun\"\n",
    "from src.mlsh_model import MLSHAgent\n",
    "from src.env_pool import MLSHPool\n",
    "\n",
    "agent = MLSHAgent(\n",
    "    1,\n",
    "    n_actions,\n",
    "    config\n",
    ")\n",
    "agent.master_policy.requires_grad_(False)\n",
    "for p in agent.parameters():\n",
    "    nn.init.uniform_(p, -0.1, 0.1)\n",
    "\n",
    "pool = MLSHPool(agent, lambda : utils.make_env(env_name), config[\"n_env\"])\n",
    "\n",
    "wandb.init(project=\"mlsh\",\n",
    "           monitor_gym=True,\n",
    "           name=f\"{env_name[9:]}\",\n",
    "           config=config,\n",
    "           dir=\"..\",\n",
    "           magic=True)\n",
    "wandb.watch(agent)"
   ],
   "metadata": {
    "collapsed": false,
    "pycharm": {
     "name": "#%%\n"
    }
   }
  },
  {
   "cell_type": "code",
   "execution_count": 5,
   "outputs": [],
   "source": [
    "a2c_subpolicies = \\\n",
    "    A2CAlgo(agent.parameters(),\n",
    "            config[\"device\"], n_actions,\n",
    "            config[\"gamma\"],\n",
    "            config[\"max_grad_norm\"],\n",
    "            config[\"entropy_coef\"],\n",
    "            config[\"lr\"],\n",
    "            config[\"value_loss_coef\"])"
   ],
   "metadata": {
    "collapsed": false,
    "pycharm": {
     "name": "#%%\n"
    }
   }
  },
  {
   "cell_type": "code",
   "execution_count": null,
   "outputs": [
    {
     "name": "stderr",
     "output_type": "stream",
     "text": [
      "  0%|          | 0/4000 [00:00<?, ?it/s]\u001B[34m\u001B[1mwandb\u001B[0m: Wandb version 0.8.36 is available!  To upgrade, please run:\n",
      "\u001B[34m\u001B[1mwandb\u001B[0m:  $ pip install wandb --upgrade\n",
      " 38%|███▊      | 1502/4000 [17:07<1:05:49,  1.58s/it]"
     ]
    }
   ],
   "source": [
    "master_step = 5\n",
    "with torch.no_grad():\n",
    "    idxs = pool.get_master_idxs()\n",
    "\n",
    "for i in tqdm(range(4000)):\n",
    "    rollout_obs, rollout_actions, rollout_rewards, rollout_mask, logits, values = pool.interact(\n",
    "        config[\"time\"], idxs)\n",
    "    loss, grad_norm, entropy, values, al, cl = a2c_subpolicies.step(\n",
    "        rollout_actions, rollout_rewards, rollout_mask, logits, values)\n",
    "    wandb.log({\n",
    "            \"rew\": np.mean(rollout_rewards),\n",
    "            \"values\": np.mean(values),\n",
    "            \"policy_loss\": al,\n",
    "            \"value_loss\": cl\n",
    "        }, commit=False, step=i)\n",
    "\n",
    "\n",
    "    if i % LOG_EACH == 0:\n",
    "        with torch.no_grad():\n",
    "            reward, step_counter, master_hist = \\\n",
    "                utils.evaluate_mlsh(agent, env, n_games=10, master_step=5)\n",
    "            reward = np.mean(reward)\n",
    "            log = {\n",
    "                \"rewards\": reward,\n",
    "                \"grad_norm\": grad_norm,\n",
    "                \"entropy\": entropy,\n",
    "                \"loss\": loss\n",
    "            }\n",
    "            wandb.log(log, step=i, commit=i%VIDEO_EACH==0)\n",
    "            if reward  >= config[\"max_reward\"]:\n",
    "                print(\"Your agent has just passed the minimum homework threshold\")\n",
    "                break"
   ],
   "metadata": {
    "collapsed": false,
    "pycharm": {
     "name": "#%%\n",
     "is_executing": true
    }
   }
  }
 ],
 "metadata": {
  "kernelspec": {
   "display_name": "MLSH",
   "language": "python",
   "name": "mlsh"
  },
  "language_info": {
   "codemirror_mode": {
    "name": "ipython",
    "version": 3
   },
   "file_extension": ".py",
   "mimetype": "text/x-python",
   "name": "python",
   "nbconvert_exporter": "python",
   "pygments_lexer": "ipython3",
   "version": "3.8.2"
  }
 },
 "nbformat": 4,
 "nbformat_minor": 1
}