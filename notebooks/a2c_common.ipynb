{
 "cells": [
  {
   "cell_type": "code",
   "execution_count": 1,
   "outputs": [],
   "source": [
    "import sys\n",
    "import wandb\n",
    "import torch\n",
    "from tqdm import tqdm\n",
    "sys.path.append(\"..\")\n",
    "\n",
    "%load_ext autoreload\n",
    "%autoreload 2\n",
    "import numpy as np\n",
    "from gym import wrappers\n",
    "from torch import nn\n",
    "\n",
    "from matplotlib import pyplot as plt\n",
    "from src import utils as utils"
   ],
   "metadata": {
    "collapsed": false,
    "pycharm": {
     "name": "#%%\n"
    }
   }
  },
  {
   "cell_type": "code",
   "execution_count": 2,
   "outputs": [
    {
     "data": {
      "text/plain": "<Figure size 432x288 with 1 Axes>",
      "image/png": "[encoded data removed]"
     },
     "metadata": {
      "needs_background": "light"
     },
     "output_type": "display_data"
    }
   ],
   "source": [
    "# env_name = \"MiniGrid-DoorKey-5x5-v0\"\n",
    "# env_name = \"MiniGrid-Empty-Random-5x5-v0\"\n",
    "env_name = \"MiniGrid-Dynamic-Obstacles-5x5-v0\"\n",
    "env = utils.make_env(env_name)\n",
    "\n",
    "obs_space_shape = env.observation_space.shape\n",
    "n_actions = env.action_space.n\n",
    "\n",
    "plt.title('Game image')\n",
    "plt.imshow(env.render('rgb_array'))\n",
    "plt.show()"
   ],
   "metadata": {
    "collapsed": false,
    "pycharm": {
     "name": "#%%\n"
    }
   }
  },
  {
   "cell_type": "code",
   "execution_count": 3,
   "outputs": [],
   "source": [
    "from src.a2c import A2CAlgo\n",
    "\n",
    "LOG_EACH = 25\n",
    "VIDEO_EACH = 400\n",
    "\n",
    "config = {\n",
    "    \"time\": 10,\n",
    "    \"n_games_mean\": 1,\n",
    "    \"max_reward\": 0.99,\n",
    "    \"device\": \"cpu\",\n",
    "    \"env\": env_name,\n",
    "    \"hidden_dim\": 128,\n",
    "    \"emb_dim\": 128,\n",
    "    \"n_env\": 4,\n",
    "    \"gamma\": 0.99,\n",
    "\n",
    "    \"max_grad_norm\": 0.5,\n",
    "    \"lr\": 0.001,\n",
    "    \"value_loss_coef\": 0.5,\n",
    "    \"entropy_coef\": 0.01,\n",
    "\n",
    "    \"n_sub\": 1,\n",
    "    \"train_n_master\": 4,\n",
    "    \"train_n_sub\": 100,\n",
    "    \"master_step_size\": 5,\n",
    "    \"master_time\": 4,\n",
    "    \"sub_lr\": 1e-3,\n",
    "    \"master_lr\": 1e-3,\n",
    "\n",
    "    \"n_iter_epoch\": 50,\n",
    "    \"n_steps_sub\": 16\n",
    "}"
   ],
   "metadata": {
    "collapsed": false,
    "pycharm": {
     "name": "#%%\n"
    }
   }
  },
  {
   "cell_type": "code",
   "execution_count": 4,
   "outputs": [
    {
     "data": {
      "text/plain": "<IPython.core.display.HTML object>",
      "text/html": "\n                Logging results to <a href=\"https://wandb.com\" target=\"_blank\">Weights & Biases</a> <a href=\"https://docs.wandb.com/integrations/jupyter.html\" target=\"_blank\">(Documentation)</a>.<br/>\n                Project page: <a href=\"https://app.wandb.ai/morgachev/mlsh\" target=\"_blank\">https://app.wandb.ai/morgachev/mlsh</a><br/>\n                Run page: <a href=\"https://app.wandb.ai/morgachev/mlsh/runs/1511v7w0\" target=\"_blank\">https://app.wandb.ai/morgachev/mlsh/runs/1511v7w0</a><br/>\n            "
     },
     "metadata": {},
     "output_type": "display_data"
    },
    {
     "data": {
      "text/plain": "[<wandb.wandb_torch.TorchGraph at 0x136461a30>]"
     },
     "execution_count": 4,
     "metadata": {},
     "output_type": "execute_result"
    }
   ],
   "source": [
    "# import os\n",
    "# os.environ[\"WANDB_MODE\"] = \"dryrun\"\n",
    "from src.mlsh_model import MLSHAgent\n",
    "from src.env_pool import MLSHPool\n",
    "\n",
    "agent = MLSHAgent(\n",
    "    config[\"n_sub\"],\n",
    "    n_actions,\n",
    "    obs_space_shape[1]\n",
    ")\n",
    "for p in agent.parameters():\n",
    "    nn.init.uniform_(p, -0.1, 0.1)\n",
    "\n",
    "pool = MLSHPool(agent,\n",
    "                lambda : utils.make_env(env_name),\n",
    "                config[\"n_env\"],\n",
    "                random_reset=True)\n",
    "\n",
    "wandb.init(project=\"mlsh\",\n",
    "           monitor_gym=True,\n",
    "           name=f\"a2c_{env_name[9:]}+{config['n_sub']}\",\n",
    "           config=config,\n",
    "           dir=\"..\",\n",
    "           magic=True,\n",
    "           group=\"comparing\")\n",
    "wandb.watch(agent)"
   ],
   "metadata": {
    "collapsed": false,
    "pycharm": {
     "name": "#%%\n"
    }
   }
  },
  {
   "cell_type": "code",
   "execution_count": 5,
   "outputs": [],
   "source": [
    "a2c_subpolicies = \\\n",
    "    A2CAlgo(agent.subpolicies.parameters(),\n",
    "            config[\"device\"],\n",
    "            n_actions,\n",
    "            config[\"gamma\"],\n",
    "            config[\"max_grad_norm\"],\n",
    "            config[\"entropy_coef\"],\n",
    "            config[\"sub_lr\"],\n",
    "            config[\"value_loss_coef\"])\n",
    "\n",
    "ac2_master = None"
   ],
   "metadata": {
    "collapsed": false,
    "pycharm": {
     "name": "#%%\n"
    }
   }
  },
  {
   "cell_type": "code",
   "execution_count": null,
   "outputs": [
    {
     "name": "stderr",
     "output_type": "stream",
     "text": [
      " 20%|██        | 808/4000 [2:23:46<10:50:59, 12.24s/it]"
     ]
    }
   ],
   "source": [
    "from src import mlsh_algo\n",
    "for i in tqdm(range(4000)):\n",
    "    epoch_rew = mlsh_algo.common_train(\n",
    "        a2c_subpolicies, pool,\n",
    "        config[\"n_iter_epoch\"],\n",
    "        config[\"n_steps_sub\"])[0]\n",
    "    with torch.no_grad():\n",
    "        reward, step_counter, master_hist = \\\n",
    "            utils.evaluate(agent, env, n_games=5)\n",
    "    wandb.log({\n",
    "        \"mean_rewards_epoch\": epoch_rew,\n",
    "        \"evaluate_reward\": np.mean(reward)\n",
    "    })"
   ],
   "metadata": {
    "collapsed": false,
    "pycharm": {
     "name": "#%%\n",
     "is_executing": true
    }
   }
  },
  {
   "cell_type": "code",
   "execution_count": 6,
   "outputs": [],
   "source": [
    "\n"
   ],
   "metadata": {
    "collapsed": false,
    "pycharm": {
     "name": "#%%\n"
    }
   }
  }
 ],
 "metadata": {
  "kernelspec": {
   "display_name": "MLSH",
   "language": "python",
   "name": "mlsh"
  },
  "language_info": {
   "codemirror_mode": {
    "name": "ipython",
    "version": 3
   },
   "file_extension": ".py",
   "mimetype": "text/x-python",
   "name": "python",
   "nbconvert_exporter": "python",
   "pygments_lexer": "ipython3",
   "version": "3.8.2"
  }
 },
 "nbformat": 4,
 "nbformat_minor": 1
}