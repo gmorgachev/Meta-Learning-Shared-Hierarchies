{
 "cells": [
  {
   "cell_type": "code",
   "execution_count": 1,
   "metadata": {
    "collapsed": true,
    "trusted": false
   },
   "outputs": [],
   "source": [
    "import sys\n",
    "sys.path.append(\"..\")\n",
    "\n",
    "%load_ext autoreload\n",
    "%autoreload 2\n",
    "\n",
    "import torch\n",
    "import gym_minigrid.wrappers\n",
    "from gym import wrappers\n",
    "\n",
    "from matplotlib import pyplot as plt\n",
    "from src import utils as utils\n",
    "from src.model import SimpleRecurrent\n",
    "from src.algo import *"
   ]
  },
  {
   "cell_type": "code",
   "execution_count": 2,
   "outputs": [
    {
     "data": {
      "text/plain": "<Figure size 432x288 with 1 Axes>",
      "image/png": "[encoded data removed]"
     },
     "metadata": {
      "needs_background": "light"
     },
     "output_type": "display_data"
    }
   ],
   "source": [
    "# env_name = \"MiniGrid-FourRooms-v0\"\n",
    "env_name = \"MiniGrid-DoorKey-5x5-v0\"\n",
    "# env = gym.make(env_name)\n",
    "env = utils.make_env(env_name)\n",
    "\n",
    "obs_space_shape = env.observation_space.shape\n",
    "n_actions = env.action_space.n\n",
    "\n",
    "plt.title('Game image')\n",
    "plt.imshow(env.render('rgb_array'))\n",
    "plt.show()"
   ],
   "metadata": {
    "collapsed": false,
    "pycharm": {
     "name": "#%%\n"
    },
    "trusted": false
   }
  },
  {
   "cell_type": "code",
   "execution_count": 3,
   "outputs": [
    {
     "data": {
      "text/plain": "<IPython.core.display.HTML object>",
      "text/html": "\n                Logging results to <a href=\"https://wandb.com\" target=\"_blank\">Weights & Biases</a> <a href=\"https://docs.wandb.com/integrations/jupyter.html\" target=\"_blank\">(Documentation)</a>.<br/>\n                Project page: <a href=\"https://app.wandb.ai/morgachev/mlsh\" target=\"_blank\">https://app.wandb.ai/morgachev/mlsh</a><br/>\n                Run page: <a href=\"https://app.wandb.ai/morgachev/mlsh/runs/wxt70a55\" target=\"_blank\">https://app.wandb.ai/morgachev/mlsh/runs/wxt70a55</a><br/>\n            "
     },
     "metadata": {},
     "output_type": "display_data"
    },
    {
     "data": {
      "text/plain": "[<wandb.wandb_torch.TorchGraph at 0x13b3cde50>]"
     },
     "execution_count": 3,
     "metadata": {},
     "output_type": "execute_result"
    },
    {
     "name": "stderr",
     "output_type": "stream",
     "text": [
      "\u001B[34m\u001B[1mwandb\u001B[0m: Network error resolved after 0:00:11.540867, resuming normal operation.\n"
     ]
    }
   ],
   "source": [
    "import wandb\n",
    "from tqdm import tqdm\n",
    "from src.algo import A2CAlgo\n",
    "import os\n",
    "# os.environ['WANDB_MODE'] = 'dryrun'\n",
    "\n",
    "LOG_EACH = 3\n",
    "VIDEO_EACH = 200\n",
    "\n",
    "config = {\n",
    "    \"time\": 100,\n",
    "    \"n_games_mean\": 3,\n",
    "    \"max_reward\": 2,\n",
    "    \"device\": \"cpu\",\n",
    "    \"env\": env_name,\n",
    "    \"hidden_dim\": 128,\n",
    "    \"emb_dim\": 128,\n",
    "    \"n_env\": 8\n",
    "}\n",
    "\n",
    "obs = env.reset()\n",
    "agent = SimpleRecurrent(\n",
    "    obs_space_shape,\n",
    "    n_actions,\n",
    "    config\n",
    ")\n",
    "\n",
    "wandb.init(project=\"mlsh\",\n",
    "           monitor_gym=True,\n",
    "           name=f\"{env_name[9:]}_base\",\n",
    "           config=config,\n",
    "           dir=\"..\",\n",
    "           magic=True)\n",
    "wandb.watch(agent)"
   ],
   "metadata": {
    "collapsed": false,
    "pycharm": {
     "name": "#%%\n"
    },
    "trusted": false
   }
  },
  {
   "cell_type": "code",
   "execution_count": 4,
   "outputs": [
    {
     "name": "stdout",
     "output_type": "stream",
     "text": [
      "action logits:\n",
      " tensor([[-0.0190, -0.0397, -0.0520,  0.0731, -0.0114, -0.0444, -0.0184]],\n",
      "       grad_fn=<AddmmBackward>)\n",
      "state values:\n",
      " tensor([-0.0636], grad_fn=<SelectBackward>)\n"
     ]
    }
   ],
   "source": [
    "state = [env.reset()]\n",
    "_, (logits, value) = agent.step(agent.get_initial_state(1), state)\n",
    "print(\"action logits:\\n\", logits)\n",
    "print(\"state values:\\n\", value)"
   ],
   "metadata": {
    "collapsed": false,
    "pycharm": {
     "name": "#%%\n"
    },
    "trusted": false
   }
  },
  {
   "cell_type": "code",
   "execution_count": 5,
   "outputs": [],
   "source": [
    "env_monitor = wrappers.Monitor(env, directory=\"../videos\", force=True)\n",
    "rw = utils.evaluate(agent, env_monitor, n_games=10)\n",
    "env_monitor.close()"
   ],
   "metadata": {
    "collapsed": false,
    "pycharm": {
     "name": "#%%\n"
    },
    "trusted": false
   }
  },
  {
   "cell_type": "code",
   "execution_count": 6,
   "outputs": [],
   "source": [
    "from src.env_pool import EnvPool\n",
    "pool = EnvPool(agent, utils.make_env, config[\"n_env\"])\n",
    "rollout_obs, rollout_actions, rollout_rewards, rollout_mask = pool.interact(10)"
   ],
   "metadata": {
    "collapsed": false,
    "pycharm": {
     "name": "#%%\n"
    },
    "trusted": false
   }
  },
  {
   "cell_type": "code",
   "execution_count": 7,
   "outputs": [
    {
     "name": "stdout",
     "output_type": "stream",
     "text": [
      "Actions shape: (8, 10)\n",
      "Rewards shape: (8, 10)\n",
      "Mask shape: (8, 10)\n",
      "Observations shape:  (8, 10, 7, 7, 3)\n"
     ]
    }
   ],
   "source": [
    "print(\"Actions shape:\", rollout_actions.shape)\n",
    "print(\"Rewards shape:\", rollout_rewards.shape)\n",
    "print(\"Mask shape:\", rollout_mask.shape)\n",
    "print(\"Observations shape: \", rollout_obs.shape)"
   ],
   "metadata": {
    "collapsed": false,
    "pycharm": {
     "name": "#%%\n"
    },
    "trusted": false
   }
  },
  {
   "cell_type": "code",
   "execution_count": null,
   "outputs": [
    {
     "name": "stderr",
     "output_type": "stream",
     "text": [
      "  2%|▏         | 224/10000 [10:23<7:47:54,  2.87s/it]"
     ]
    }
   ],
   "source": [
    "alg = A2CAlgo(agent, config[\"device\"], n_actions)\n",
    "memory = list(pool.prev_memory_states)\n",
    "\n",
    "for i in tqdm(range(10000)):\n",
    "    memory = list(pool.prev_memory_states)\n",
    "    rollout_obs, rollout_actions, rollout_rewards, rollout_mask = pool.interact(config[\"time\"])\n",
    "    loss, grad_norm, entropy = alg.train_on_rollout(\n",
    "        rollout_obs, rollout_actions, rollout_rewards, rollout_mask, memory)\n",
    "\n",
    "    reward = np.mean(utils.evaluate(agent, env, n_games=config[\"n_games_mean\"]))\n",
    "\n",
    "    if i % LOG_EACH == 0:\n",
    "        log = {\n",
    "            \"rewards\": reward,\n",
    "            \"grad_norm\": grad_norm,\n",
    "            \"entropy\": entropy,\n",
    "            \"loss\": loss\n",
    "        }\n",
    "        wandb.log(log)\n",
    "\n",
    "        if i % VIDEO_EACH == 0:\n",
    "            env_monitor = wrappers.Monitor(env, directory=\"videos\", force=True)\n",
    "            rw = utils.evaluate(agent, env_monitor, n_games=config[\"n_games_mean\"],)\n",
    "            env_monitor.close()\n",
    "        if reward  >= config[\"max_reward\"]:\n",
    "            print(\"Your agent has just passed the minimum homework threshold\")\n",
    "            break"
   ],
   "metadata": {
    "collapsed": false,
    "pycharm": {
     "name": "#%%\n",
     "is_executing": true
    },
    "trusted": false
   }
  }
 ],
 "metadata": {
  "kernelspec": {
   "name": "mlsh",
   "language": "python",
   "display_name": "MLSH"
  },
  "language_info": {
   "codemirror_mode": {
    "name": "ipython",
    "version": 2
   },
   "file_extension": ".py",
   "mimetype": "text/x-python",
   "name": "python",
   "nbconvert_exporter": "python",
   "pygments_lexer": "ipython2",
   "version": "2.7.6"
  }
 },
 "nbformat": 4,
 "nbformat_minor": 0
}