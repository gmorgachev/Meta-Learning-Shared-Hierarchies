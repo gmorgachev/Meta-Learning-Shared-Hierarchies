{
 "cells": [
  {
   "cell_type": "code",
   "execution_count": null,
   "outputs": [],
   "source": [
    "import sys\n",
    "import wandb\n",
    "import torch\n",
    "from tqdm import tqdm\n",
    "sys.path.append(\"..\")\n",
    "\n",
    "%load_ext autoreload\n",
    "%autoreload 2\n",
    "import numpy as np\n",
    "from gym import wrappers\n",
    "from torch import nn\n",
    "\n",
    "from matplotlib import pyplot as plt\n",
    "from src import utils as utils"
   ],
   "metadata": {
    "collapsed": false,
    "pycharm": {
     "name": "#%%\n"
    }
   }
  },
  {
   "cell_type": "code",
   "execution_count": null,
   "outputs": [],
   "source": [
    "env_name = \"MiniGrid-DoorKey-5x5-v0\"\n",
    "# env_name = \"MiniGrid-Empty-Random-5x5-v0\"\n",
    "# env_name = \"MiniGrid-FourRooms-v0\"\n",
    "env = utils.make_env(env_name)\n",
    "\n",
    "obs_space_shape = env.observation_space.shape\n",
    "n_actions = env.action_space.n\n",
    "\n",
    "plt.title('Game image')\n",
    "plt.imshow(env.render('rgb_array'))\n",
    "plt.show()"
   ],
   "metadata": {
    "collapsed": false,
    "pycharm": {
     "name": "#%%\n"
    }
   }
  },
  {
   "cell_type": "code",
   "execution_count": null,
   "outputs": [],
   "source": [
    "from src.a2c import A2CAlgo\n",
    "\n",
    "config = {\n",
    "    \"time\": 10,\n",
    "    \"n_games_mean\": 1,\n",
    "    \"max_reward\": 0.99,\n",
    "    \"device\": \"cpu\",\n",
    "    \"env\": env_name,\n",
    "    \"hidden_dim\": 128,\n",
    "    \"emb_dim\": 128,\n",
    "    \"n_env\": 1,\n",
    "    \"gamma\": 0.99,\n",
    "\n",
    "    \"max_grad_norm\": 0.5,\n",
    "    \"lr\": 0.001,\n",
    "    \"value_loss_coef\": 0.5,\n",
    "    \"entropy_coef\": 0.01,\n",
    "\n",
    "    \"n_sub\": 1,\n",
    "    \"sub_n_iter\": 50,\n",
    "    \"sub_step_size\": 4,\n",
    "    \"sub_n_steps\": 4,\n",
    "    \"sub_lr\": 1e-3,\n",
    "\n",
    "    \"master_n_iter\": 30,\n",
    "    \"master_step_size\": 3,\n",
    "    \"master_n_steps\": 4,\n",
    "    \"master_lr\": 1e-3,\n",
    "\n",
    "    \"n_iter_epoch\": 50,\n",
    "    \"n_steps_sub\": 16\n",
    "}"
   ],
   "metadata": {
    "collapsed": false,
    "pycharm": {
     "name": "#%%\n"
    }
   }
  },
  {
   "cell_type": "code",
   "execution_count": null,
   "outputs": [],
   "source": [
    "\n",
    "# import os\n",
    "# os.environ[\"WANDB_MODE\"] = \"dryrun\"\n",
    "from src.mlsh_model import MLSHAgent\n",
    "from src.env_pool import MLSHPool\n",
    "\n",
    "agent = MLSHAgent(\n",
    "    config[\"n_sub\"],\n",
    "    n_actions,\n",
    "    obs_space_shape[1]\n",
    ")\n",
    "for p in agent.parameters():\n",
    "    nn.init.uniform_(p, -0.1, 0.1)\n",
    "\n",
    "pool = MLSHPool(agent,\n",
    "                lambda : utils.make_env(env_name),\n",
    "                config[\"n_env\"],\n",
    "                random_reset=False)\n",
    "\n",
    "wandb.init(project=\"mlsh\",\n",
    "           monitor_gym=True,\n",
    "           name=f\"mlsh_{env_name[9:]}+{config['n_sub']}\",\n",
    "           config=config,\n",
    "           dir=\"..\",\n",
    "           magic=True,\n",
    "           group=\"comparing\")\n",
    "wandb.watch(agent)"
   ],
   "metadata": {
    "collapsed": false,
    "pycharm": {
     "name": "#%%\n"
    }
   }
  },
  {
   "cell_type": "code",
   "execution_count": null,
   "outputs": [],
   "source": [
    "a2c_subpolicies = \\\n",
    "    A2CAlgo(agent.subpolicies.parameters(),\n",
    "            config[\"device\"],\n",
    "            n_actions,\n",
    "            config[\"gamma\"],\n",
    "            config[\"max_grad_norm\"],\n",
    "            config[\"entropy_coef\"],\n",
    "            config[\"sub_lr\"],\n",
    "            config[\"value_loss_coef\"])\n",
    "\n",
    "ac2_master = \\\n",
    "    A2CAlgo(list(agent.master_policy.parameters()),\n",
    "            config[\"device\"],\n",
    "            config[\"n_sub\"],\n",
    "            config[\"gamma\"],\n",
    "            config[\"max_grad_norm\"],\n",
    "            config[\"entropy_coef\"],\n",
    "            config[\"master_lr\"],\n",
    "            config[\"value_loss_coef\"])"
   ],
   "metadata": {
    "collapsed": false,
    "pycharm": {
     "name": "#%%\n"
    }
   }
  },
  {
   "cell_type": "code",
   "execution_count": null,
   "outputs": [],
   "source": [
    "from src import mlsh_algo\n",
    "for i in tqdm(range(4000)):\n",
    "    pool.update_seeds()\n",
    "    for env in pool.envs:\n",
    "        env.reset()\n",
    "    for p in agent.master_policy.parameters():\n",
    "        nn.init.uniform_(p, -0.1, 0.1)\n",
    "\n",
    "    mlsh_algo.warmup(ac2_master, pool,\n",
    "                     config[\"master_n_iter\"],\n",
    "                     config[\"master_step_size\"],\n",
    "                     config[\"master_n_steps\"], config)\n",
    "    epoch_rew = mlsh_algo.joint_train(\n",
    "        ac2_master,\n",
    "        a2c_subpolicies,\n",
    "        pool,\n",
    "        config[\"sub_n_iter\"],\n",
    "        config[\"sub_step_size\"],\n",
    "        config[\"sub_n_steps\"],\n",
    "        config[\"n_env\"])[0]\n",
    "\n",
    "    with torch.no_grad():\n",
    "        wandb.log({\n",
    "            \"mean_rewards_epoch\": epoch_rew,\n",
    "            \"seen_evaluate_reward\":\n",
    "                np.mean(utils.evaluate(agent, env, n_games=5,\n",
    "                    last_env=pool.seeds[0])[0]),\n",
    "            \"unseen_evaluate_reward\":\n",
    "                np.mean(utils.evaluate(agent, env, n_games=5,\n",
    "                    last_env=None)[0])\n",
    "        })\n"
   ],
   "metadata": {
    "collapsed": false,
    "pycharm": {
     "name": "#%%\n"
    }
   }
  }
 ],
 "metadata": {
  "kernelspec": {
   "display_name": "MLSH",
   "language": "python",
   "name": "mlsh"
  },
  "language_info": {
   "codemirror_mode": {
    "name": "ipython",
    "version": 3
   },
   "file_extension": ".py",
   "mimetype": "text/x-python",
   "name": "python",
   "nbconvert_exporter": "python",
   "pygments_lexer": "ipython3",
   "version": "3.8.2"
  }
 },
 "nbformat": 4,
 "nbformat_minor": 1
}